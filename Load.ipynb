{
 "cells": [
  {
   "cell_type": "code",
   "execution_count": 6,
   "id": "79394ede",
   "metadata": {},
   "outputs": [],
   "source": [
    "import joblib\n",
    "import pandas as pd\n",
    "\n",
    "# Load your fine-tuned model\n",
    "model = joblib.load(\"fine_tuned_aqi_model.pkl\")"
   ]
  },
  {
   "cell_type": "code",
   "execution_count": 7,
   "id": "2569674e",
   "metadata": {},
   "outputs": [
    {
     "name": "stdout",
     "output_type": "stream",
     "text": [
      "Predicted AQI: [75.21054635]\n"
     ]
    }
   ],
   "source": [
    "# Example: 1 test point\n",
    "X_test = pd.DataFrame([        \n",
    "    {\n",
    "        \"AOD\": 220.9,\n",
    "        \"CO\": 0.052,\n",
    "        \"PM25\": 45.2,\n",
    "        \"humidity\": 41.5,\n",
    "        \"temperature\": 29.4\n",
    "    },\n",
    "])\n",
    "# Predict AQI\n",
    "predicted_aqi = model.predict(X_test)\n",
    "\n",
    "# Show results\n",
    "print(\"Predicted AQI:\", predicted_aqi)\n"
   ]
  }
 ],
 "metadata": {
  "kernelspec": {
   "display_name": ".venv",
   "language": "python",
   "name": "python3"
  },
  "language_info": {
   "codemirror_mode": {
    "name": "ipython",
    "version": 3
   },
   "file_extension": ".py",
   "mimetype": "text/x-python",
   "name": "python",
   "nbconvert_exporter": "python",
   "pygments_lexer": "ipython3",
   "version": "3.10.11"
  }
 },
 "nbformat": 4,
 "nbformat_minor": 5
}
